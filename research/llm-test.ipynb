{
 "cells": [
  {
   "cell_type": "code",
   "execution_count": 1,
   "metadata": {},
   "outputs": [],
   "source": [
    "from langchain.llms import GooglePalm\n",
    "from dotenv import load_dotenv\n",
    "import os"
   ]
  },
  {
   "cell_type": "code",
   "execution_count": 2,
   "metadata": {},
   "outputs": [
    {
     "name": "stderr",
     "output_type": "stream",
     "text": [
      "c:\\Users\\User\\Desktop\\Main-NLP-PROJECTS\\Langchain_finance\\venv\\lib\\site-packages\\tqdm\\auto.py:21: TqdmWarning: IProgress not found. Please update jupyter and ipywidgets. See https://ipywidgets.readthedocs.io/en/stable/user_install.html\n",
      "  from .autonotebook import tqdm as notebook_tqdm\n"
     ]
    },
    {
     "name": "stdout",
     "output_type": "stream",
     "text": [
      "Football is a team sport played with a spherical ball between two teams of eleven players on a rectangular field with a goal at each end. The object of the game is to score by getting the ball into the opposing goal.\n",
      "\n",
      "The game is played in 45-minute halves with a 15-minute break in between. Each team has one goalkeeper who is the only player allowed to touch the ball with their hands inside the penalty area. The other 10 players are called outfield players.\n",
      "\n",
      "Outfield players can use any part of their body to touch the ball except their hands and arms. The most common way to score is by kicking the ball into the goal, but players can also score by heading the ball or by deflecting it in with their body.\n",
      "\n",
      "Football is a popular sport all over the world and is played by millions of people every day.\n"
     ]
    }
   ],
   "source": [
    "load_dotenv()\n",
    "api_key = os.getenv(\"GOOGLE_API_KEY\")\n",
    "llm = GooglePalm(google_api=api_key)\n",
    "answer = llm(\"Write about football briefly\")\n",
    "print(answer)"
   ]
  },
  {
   "cell_type": "markdown",
   "metadata": {},
   "source": [
    "Database object and connection"
   ]
  },
  {
   "cell_type": "code",
   "execution_count": 3,
   "metadata": {},
   "outputs": [],
   "source": [
    "os.chdir(\"../\")"
   ]
  },
  {
   "cell_type": "code",
   "execution_count": 35,
   "metadata": {},
   "outputs": [],
   "source": [
    "!cd C:\\Users\\User\\Desktop\\Main-NLP-PROJECTS\\Langchain_finance\\Finance-Research-Langchain\\src"
   ]
  },
  {
   "cell_type": "code",
   "execution_count": 4,
   "metadata": {},
   "outputs": [
    {
     "name": "stdout",
     "output_type": "stream",
     "text": [
      "c:\\Users\\User\\Desktop\\Main-NLP-PROJECTS\\Langchain_finance\\Finance-Research-Langchain\n"
     ]
    }
   ],
   "source": [
    "!cd"
   ]
  },
  {
   "cell_type": "code",
   "execution_count": null,
   "metadata": {},
   "outputs": [],
   "source": [
    "import sys\n",
    "sys.path.append(\"../src/llm_connect\")"
   ]
  },
  {
   "cell_type": "code",
   "execution_count": 23,
   "metadata": {},
   "outputs": [],
   "source": [
    "from langchain.utilities import SQLDatabase\n",
    "from src.llm_connect.constants.constant import CONFIG_FILE_PATH\n",
    "from src.llm_connect.utils.utils import read_yaml\n",
    "db_config = read_yaml(CONFIG_FILE_PATH).Database"
   ]
  },
  {
   "cell_type": "code",
   "execution_count": 25,
   "metadata": {},
   "outputs": [
    {
     "name": "stdout",
     "output_type": "stream",
     "text": [
      "\n",
      "CREATE TABLE dsicount_od (\n",
      "\tdiscount_id BIGSERIAL NOT NULL, \n",
      "\tpc_discount INTEGER, \n",
      "\tt_shirt_id BIGINT, \n",
      "\tCONSTRAINT dsicount_od_pkey PRIMARY KEY (discount_id), \n",
      "\tCONSTRAINT dsicount_od_t_shirt_id_fkey FOREIGN KEY(t_shirt_id) REFERENCES t_shirt (t_shirt_id), \n",
      "\tCONSTRAINT dsicount_od_t_shirt_id_key UNIQUE (t_shirt_id)\n",
      ")\n",
      "\n",
      "/*\n",
      "3 rows from dsicount_od table:\n",
      "discount_id\tpc_discount\tt_shirt_id\n",
      "1\t14\t1\n",
      "2\t5\t2\n",
      "3\t27\t3\n",
      "*/\n",
      "\n",
      "\n",
      "CREATE TABLE t_shirt (\n",
      "\tt_shirt_id BIGSERIAL NOT NULL, \n",
      "\tbrand VARCHAR(50), \n",
      "\tcolor VARCHAR(50), \n",
      "\tsize_ INTEGER, \n",
      "\tprice INTEGER, \n",
      "\tstock_quantity INTEGER, \n",
      "\tCONSTRAINT t_shirt_pkey PRIMARY KEY (t_shirt_id)\n",
      ")\n",
      "\n",
      "/*\n",
      "3 rows from t_shirt table:\n",
      "t_shirt_id\tbrand\tcolor\tsize_\tprice\tstock_quantity\n",
      "1\tChelsae\tIndigo\t6\t256\t68\n",
      "2\tKelsi\tRed\t5\t592\t15\n",
      "3\tVeronique\tAquamarine\t1\t470\t62\n",
      "*/\n"
     ]
    }
   ],
   "source": [
    "\n",
    "connection_string = f\"postgresql://{db_config.user}:{db_config.password}@{db_config.host}/{db_config.name}\"\n",
    "\n",
    "db = SQLDatabase.from_uri(\n",
    "    connection_string,\n",
    "sample_rows_in_table_info=3)\n",
    "\n",
    "print(db.table_info)"
   ]
  },
  {
   "cell_type": "markdown",
   "metadata": {},
   "source": [
    "### SQL Database chain"
   ]
  },
  {
   "cell_type": "code",
   "execution_count": 27,
   "metadata": {},
   "outputs": [
    {
     "name": "stdout",
     "output_type": "stream",
     "text": [
      "\n",
      "\n",
      "\u001b[1m> Entering new SQLDatabaseChain chain...\u001b[0m\n",
      "How many red colour t-shirts do we have left\n",
      "SQLQuery:\u001b[32;1m\u001b[1;3mSELECT stock_quantity FROM t_shirt WHERE color = 'Red'\u001b[0m\n",
      "SQLResult: \u001b[33;1m\u001b[1;3m[(15,), (88,), (85,), (95,), (90,), (72,), (59,), (43,), (75,), (37,), (21,), (15,), (38,), (50,), (62,), (99,), (31,), (25,), (80,), (16,), (96,), (20,), (72,), (63,), (72,), (49,), (60,), (77,), (71,), (10,), (33,), (100,), (29,), (98,), (93,), (98,), (98,), (21,), (96,), (98,), (18,), (79,), (40,), (94,), (1,)]\u001b[0m\n",
      "Answer:\u001b[32;1m\u001b[1;3m15\u001b[0m\n",
      "\u001b[1m> Finished chain.\u001b[0m\n"
     ]
    }
   ],
   "source": [
    "from langchain_experimental.sql import SQLDatabaseChain\n",
    "db_chain = SQLDatabaseChain.from_llm(llm,db,verbose=True)\n",
    "qnsl = db_chain(\"How many red colour t-shirts do we have left\")"
   ]
  },
  {
   "cell_type": "code",
   "execution_count": 28,
   "metadata": {},
   "outputs": [
    {
     "data": {
      "text/plain": [
       "{'query': 'How many red colour t-shirts do we have left', 'result': '15'}"
      ]
     },
     "execution_count": 28,
     "metadata": {},
     "output_type": "execute_result"
    }
   ],
   "source": [
    "qnsl"
   ]
  },
  {
   "cell_type": "code",
   "execution_count": 30,
   "metadata": {},
   "outputs": [
    {
     "name": "stdout",
     "output_type": "stream",
     "text": [
      "\n",
      "\n",
      "\u001b[1m> Entering new SQLDatabaseChain chain...\u001b[0m\n",
      "How what is the total inventory for tshirt size of 2\n",
      "SQLQuery:\u001b[32;1m\u001b[1;3mSELECT SUM(stock_quantity) FROM t_shirt WHERE size_ = 2\u001b[0m\n",
      "SQLResult: \u001b[33;1m\u001b[1;3m[(8422,)]\u001b[0m\n",
      "Answer:\u001b[32;1m\u001b[1;3m8422\u001b[0m\n",
      "\u001b[1m> Finished chain.\u001b[0m\n"
     ]
    }
   ],
   "source": [
    "qnsl = db_chain(\"How what is the total inventory for tshirt size of 2\")"
   ]
  },
  {
   "cell_type": "code",
   "execution_count": null,
   "metadata": {},
   "outputs": [],
   "source": []
  }
 ],
 "metadata": {
  "kernelspec": {
   "display_name": "Python 3",
   "language": "python",
   "name": "python3"
  },
  "language_info": {
   "codemirror_mode": {
    "name": "ipython",
    "version": 3
   },
   "file_extension": ".py",
   "mimetype": "text/x-python",
   "name": "python",
   "nbconvert_exporter": "python",
   "pygments_lexer": "ipython3",
   "version": "3.10.13"
  }
 },
 "nbformat": 4,
 "nbformat_minor": 2
}
